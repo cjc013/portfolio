{
 "cells": [
  {
   "cell_type": "code",
   "execution_count": 1,
   "metadata": {},
   "outputs": [],
   "source": [
    "Spent_money = 0\n",
    "Personal = 0\n",
    "Savings = 0\n",
    "Investments = 0\n",
    "\n",
    "def expense_tracker():\n",
    "    global Spent_money, Personal, Savings, Investments  # Make them accessible inside the function\n",
    "    \n",
    "    pin = int(input(\"Please enter your pin! \"))\n",
    "    if pin != 1356:\n",
    "        print(\"This is the wrong pin!\")\n",
    "    else:\n",
    "        moneyenter = int(input(\"Please enter how much money you spent: \"))\n",
    "        category = input(\"What category do you want to put this purchase under? Choices: Personal, Savings, Investment \").lower().strip(\".\")\n",
    "\n",
    "        if category == \"personal\":\n",
    "            Spent_money += moneyenter\n",
    "            Personal += moneyenter\n",
    "            print(\"Your purchase was put into the personal category!\")\n",
    "        elif category == \"savings\":\n",
    "            Spent_money += moneyenter\n",
    "            Savings += moneyenter\n",
    "            print(\"Your purchase was put into the savings category!\")\n",
    "        elif category == \"investment\":\n",
    "            Spent_money += moneyenter\n",
    "            Investments += moneyenter\n",
    "            print(\"Your purchase was put into the investment category!\")\n",
    "        else:\n",
    "            print(\"This is not an option!\")\n"
   ]
  }
 ],
 "metadata": {
  "kernelspec": {
   "display_name": "Python 3",
   "language": "python",
   "name": "python3"
  },
  "language_info": {
   "codemirror_mode": {
    "name": "ipython",
    "version": 3
   },
   "file_extension": ".py",
   "mimetype": "text/x-python",
   "name": "python",
   "nbconvert_exporter": "python",
   "pygments_lexer": "ipython3",
   "version": "3.13.2"
  }
 },
 "nbformat": 4,
 "nbformat_minor": 2
}
